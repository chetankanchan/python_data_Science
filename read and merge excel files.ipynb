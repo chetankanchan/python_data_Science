{
 "cells": [
  {
   "cell_type": "code",
   "execution_count": 3,
   "id": "ddf218dd",
   "metadata": {},
   "outputs": [
    {
     "name": "stdout",
     "output_type": "stream",
     "text": [
      "Collecting openpyxl"
     ]
    },
    {
     "name": "stderr",
     "output_type": "stream",
     "text": [
      "WARNING: You are using pip version 20.2.3; however, version 22.0.3 is available.\n",
      "You should consider upgrading via the 'c:\\users\\chetan kanchan\\appdata\\local\\programs\\python\\python39\\python.exe -m pip install --upgrade pip' command.\n"
     ]
    },
    {
     "name": "stdout",
     "output_type": "stream",
     "text": [
      "\n",
      "  Downloading openpyxl-3.0.9-py2.py3-none-any.whl (242 kB)\n",
      "Collecting et-xmlfile\n",
      "  Downloading et_xmlfile-1.1.0-py3-none-any.whl (4.7 kB)\n",
      "Installing collected packages: et-xmlfile, openpyxl\n",
      "Successfully installed et-xmlfile-1.1.0 openpyxl-3.0.9\n"
     ]
    }
   ],
   "source": [
    "!pip install openpyxl"
   ]
  },
  {
   "cell_type": "code",
   "execution_count": 4,
   "id": "34bdfcf3",
   "metadata": {},
   "outputs": [],
   "source": [
    "# importing the module\n",
    "import pandas\n",
    "\n"
   ]
  },
  {
   "cell_type": "code",
   "execution_count": 5,
   "id": "fc03d839",
   "metadata": {},
   "outputs": [],
   "source": [
    "# reading the files\n",
    "f1 = pandas.read_excel(\"C:/Users/Chetan Kanchan/Desktop/Python/Python test/Data-1.xlsx\")\n",
    "f2 = pandas.read_excel(\"C:/Users/Chetan Kanchan/Desktop/Python/Python test/data-2.xlsx\")\n"
   ]
  },
  {
   "cell_type": "code",
   "execution_count": 9,
   "id": "9d08571d",
   "metadata": {},
   "outputs": [
    {
     "data": {
      "text/html": [
       "<div>\n",
       "<style scoped>\n",
       "    .dataframe tbody tr th:only-of-type {\n",
       "        vertical-align: middle;\n",
       "    }\n",
       "\n",
       "    .dataframe tbody tr th {\n",
       "        vertical-align: top;\n",
       "    }\n",
       "\n",
       "    .dataframe thead th {\n",
       "        text-align: right;\n",
       "    }\n",
       "</style>\n",
       "<table border=\"1\" class=\"dataframe\">\n",
       "  <thead>\n",
       "    <tr style=\"text-align: right;\">\n",
       "      <th></th>\n",
       "      <th>Name</th>\n",
       "      <th>Address</th>\n",
       "      <th>State</th>\n",
       "      <th>zip</th>\n",
       "    </tr>\n",
       "  </thead>\n",
       "  <tbody>\n",
       "    <tr>\n",
       "      <th>0</th>\n",
       "      <td>Raj</td>\n",
       "      <td>123 ave</td>\n",
       "      <td>maharashtra</td>\n",
       "      <td>10000</td>\n",
       "    </tr>\n",
       "    <tr>\n",
       "      <th>1</th>\n",
       "      <td>chetan</td>\n",
       "      <td>356 ste</td>\n",
       "      <td>karnataka</td>\n",
       "      <td>20000</td>\n",
       "    </tr>\n",
       "    <tr>\n",
       "      <th>2</th>\n",
       "      <td>app</td>\n",
       "      <td>434 dddi</td>\n",
       "      <td>karnataka</td>\n",
       "      <td>30000</td>\n",
       "    </tr>\n",
       "    <tr>\n",
       "      <th>3</th>\n",
       "      <td>niz</td>\n",
       "      <td>22  9 cross</td>\n",
       "      <td>karnataka</td>\n",
       "      <td>40000</td>\n",
       "    </tr>\n",
       "  </tbody>\n",
       "</table>\n",
       "</div>"
      ],
      "text/plain": [
       "     Name      Address        State    zip\n",
       "0     Raj      123 ave  maharashtra  10000\n",
       "1  chetan      356 ste    karnataka  20000\n",
       "2     app     434 dddi    karnataka  30000\n",
       "3     niz  22  9 cross    karnataka  40000"
      ]
     },
     "execution_count": 9,
     "metadata": {},
     "output_type": "execute_result"
    }
   ],
   "source": [
    "f1[[\"Name\",\"Address\",\"State\",\"zip\"]]"
   ]
  },
  {
   "cell_type": "code",
   "execution_count": 11,
   "id": "42727a4e",
   "metadata": {},
   "outputs": [
    {
     "data": {
      "text/html": [
       "<div>\n",
       "<style scoped>\n",
       "    .dataframe tbody tr th:only-of-type {\n",
       "        vertical-align: middle;\n",
       "    }\n",
       "\n",
       "    .dataframe tbody tr th {\n",
       "        vertical-align: top;\n",
       "    }\n",
       "\n",
       "    .dataframe thead th {\n",
       "        text-align: right;\n",
       "    }\n",
       "</style>\n",
       "<table border=\"1\" class=\"dataframe\">\n",
       "  <thead>\n",
       "    <tr style=\"text-align: right;\">\n",
       "      <th></th>\n",
       "      <th>Name</th>\n",
       "      <th>Address</th>\n",
       "      <th>State</th>\n",
       "      <th>zip</th>\n",
       "    </tr>\n",
       "  </thead>\n",
       "  <tbody>\n",
       "    <tr>\n",
       "      <th>0</th>\n",
       "      <td>Raj</td>\n",
       "      <td>123 ave</td>\n",
       "      <td>maharashtra</td>\n",
       "      <td>10000</td>\n",
       "    </tr>\n",
       "    <tr>\n",
       "      <th>1</th>\n",
       "      <td>chetan</td>\n",
       "      <td>356 ste</td>\n",
       "      <td>karnataka</td>\n",
       "      <td>20000</td>\n",
       "    </tr>\n",
       "    <tr>\n",
       "      <th>2</th>\n",
       "      <td>app</td>\n",
       "      <td>434 dddi</td>\n",
       "      <td>karnataka</td>\n",
       "      <td>30000</td>\n",
       "    </tr>\n",
       "    <tr>\n",
       "      <th>3</th>\n",
       "      <td>niz</td>\n",
       "      <td>22  9 cross</td>\n",
       "      <td>karnataka</td>\n",
       "      <td>40000</td>\n",
       "    </tr>\n",
       "  </tbody>\n",
       "</table>\n",
       "</div>"
      ],
      "text/plain": [
       "     Name      Address        State    zip\n",
       "0     Raj      123 ave  maharashtra  10000\n",
       "1  chetan      356 ste    karnataka  20000\n",
       "2     app     434 dddi    karnataka  30000\n",
       "3     niz  22  9 cross    karnataka  40000"
      ]
     },
     "execution_count": 11,
     "metadata": {},
     "output_type": "execute_result"
    }
   ],
   "source": [
    "f2[[\"Name\",\"Address\",\"State\",\"zip\"]]"
   ]
  },
  {
   "cell_type": "code",
   "execution_count": 13,
   "id": "8f16a13c",
   "metadata": {},
   "outputs": [],
   "source": [
    "f3=f1[[\"Name\",\"Address\",\"State\",\"zip\"]].merge(f2[[\"Name\",\"Address\",\"State\",\"zip\"]],on =\"Name\", how=\"left\")"
   ]
  },
  {
   "cell_type": "code",
   "execution_count": 6,
   "id": "bcdda16f",
   "metadata": {},
   "outputs": [
    {
     "ename": "SyntaxError",
     "evalue": "invalid syntax (Temp/ipykernel_13380/2318465501.py, line 2)",
     "output_type": "error",
     "traceback": [
      "\u001b[1;36m  File \u001b[1;32m\"C:\\Users\\CHETAN~1\\AppData\\Local\\Temp/ipykernel_13380/2318465501.py\"\u001b[1;36m, line \u001b[1;32m2\u001b[0m\n\u001b[1;33m    f3 = f1[[\"Name\",\"Address\",\"City\",\"State\",\"zip\"]].merge(f2[[[\"Name\",\"Address\",\"City\",\"State\",\"zip\"]], on=\"Name\",how=\"left\")\u001b[0m\n\u001b[1;37m                                                                                                           ^\u001b[0m\n\u001b[1;31mSyntaxError\u001b[0m\u001b[1;31m:\u001b[0m invalid syntax\n"
     ]
    }
   ],
   "source": [
    "\n",
    "# merging the files\n",
    "f3 = f1[[\"Name\",\"Address\",\"City\",\"State\",\"zip\"]].merge(f2[[[\"Name\",\"Address\",\"City\",\"State\",\"zip\"]], on=\"Name\",how=\"left\")\n",
    "\n"
   ]
  },
  {
   "cell_type": "code",
   "execution_count": 15,
   "id": "0a6296c6",
   "metadata": {},
   "outputs": [],
   "source": [
    "# creating a new file\n",
    "f3.to_excel(\"C:/Users/Chetan Kanchan/Desktop/Python/Python test/Results.xlsx\", index=False)"
   ]
  },
  {
   "cell_type": "code",
   "execution_count": null,
   "id": "bbc2bc24",
   "metadata": {},
   "outputs": [],
   "source": []
  }
 ],
 "metadata": {
  "kernelspec": {
   "display_name": "Python 3 (ipykernel)",
   "language": "python",
   "name": "python3"
  },
  "language_info": {
   "codemirror_mode": {
    "name": "ipython",
    "version": 3
   },
   "file_extension": ".py",
   "mimetype": "text/x-python",
   "name": "python",
   "nbconvert_exporter": "python",
   "pygments_lexer": "ipython3",
   "version": "3.9.1"
  }
 },
 "nbformat": 4,
 "nbformat_minor": 5
}
